{
 "cells": [
  {
   "cell_type": "markdown",
   "metadata": {},
   "source": [
    "# Anscombes Quartet - Assignment for Fundamentals of Data Analysis"
   ]
  },
  {
   "cell_type": "markdown",
   "metadata": {},
   "source": [
    "### Introduction\n",
    "\n",
    "The Anscombes Quartet is composed of four datasets.  These datasets are made up of nearly identical simple descriptive statistics, but when they are graphed they are completely different.  Each dataset is made up of eleven (x,y) points"
   ]
  },
  {
   "cell_type": "markdown",
   "metadata": {},
   "source": [
    "### Background\n",
    "\n",
    "The Anscombe's Quartet was created by statistician [Francis Anscombes](https://en.wikipedia.org/wiki/Frank_Anscombe) (13 May 1918 – 17 October 2001) in 1973.  Anscombes  was an English statistician whose interests included statistical computing.  He stressed the importance of a computer making both calculations and graphs.  To emphasise the importance of graphing data he created the four datasets which are now known as [Anscombe's Quartet](https://en.wikipedia.org/wiki/Anscombe%27s_quartet). \n",
    "\n",
    "Anscombe realized that statistics cannot fully depict any data set.  Statistics can describe general trends and aspects of data but they do not give a complete picture. Statistically data may look the same, but when it is plotted using diagrams and graphs it can look completely different.\n",
    "\n"
   ]
  },
  {
   "cell_type": "markdown",
   "metadata": {},
   "source": [
    "![anscombe](data:image/jpeg;base64,/9j/4AAQSkZJRgABAQAAAQABAAD/2wCEAAkGBxMTEhUSExMWFRUXGBkXGBUYFRUXFxgYFxUXGBYYFRcYHSggGBolGxUVITEhJSkrLi4uFx8zODMtNygtLisBCgoKBQUFDgUFDisZExkrKysrKysrKysrKysrKysrKysrKysrKysrKysrKysrKysrKysrKysrKysrKysrKysrK//AABEIAQgAvwMBIgACEQEDEQH/xAAcAAABBQEBAQAAAAAAAAAAAAAFAgMEBgcBAAj/xABCEAABAwIEAwQHBAoBBAMBAAABAAIDESEEBRIxQVFhBiJxgQcTMlKRocEjM0KxFBVicoKS0eHw8bIWNENUU2OiJf/EABQBAQAAAAAAAAAAAAAAAAAAAAD/xAAUEQEAAAAAAAAAAAAAAAAAAAAA/9oADAMBAAIRAxEAPwCyZGftVYsdI0CrtlXMl+9RHtXFqhI59UHXYzCncj5J+PMMMNnBZ1H2Qa4VLnX/AGiu/wDRLR+N/wDOUGkjN4PfHxXP1vB7wWVw9jSXfevof2ypUnYWw+0k/nKDTm5xB7wShnEPvhZYOwpr97J/OVx/Yh4/8sn85Qat+tYfeCU3NIveCx//AKKl/wDnl/nKVN2VdG2rp5POQhBsIzOL3gu/rKL3gsRfl8bfaxkgP7xKScBxbPO8c6kBBuDszi94Ln6yi95Ye2Bzd5JTWwGv/KJU8xbTWXgD3Xmp6oNx/WUXvBc/WMPvBYhluA/STSLEyVG7S4gj+qKM7Jy8ZpP5ig14ZlD7wXf1nF7wWPnsjMdp5f5ymv8Ao7Ef+xL/ADFBtAzWL3gvDNYveCxmPsZPxnlP8ZTruxEp2nl/nKDZG5rF7wS25vD74WMRdiZdjPKf4ypsPYJ1Lyymv/2OQa2c5h98fFeGeQe+PisnZ6PncZJD/G5PM9Hv7bz/ABu/qgL5H98jPaMfZoLkX3yM9ovYQCsO3ufBOOCZid3E401BQMYdveRTRZC4a180WbsEDZakSBLldRBMfmoLtDSabWQIx+ZESaY7nieX9kKxETp3d2ruZ/CD4ojhsIHuuKNG5BuRyRqMNaA1jNI+vVBX8D2VZYudU1uAL+F0ewuSxD8F+oqp+GgtVTWR8kA05ZHYerb40FUOzPspHIDQaT4KzCNP+qsgw3tDkE+EfrYC0NNWyCvxP9FfOzGcMxUIdb1rbPaNwedORVmxuEDmkOALTYgjdZ3nWRSYOUYjDEhtbtHL3T0QXfDtTtFCyXHCeESNFK2I4gjcKcWlA4GJ2NiS1uyfDLIGtF1LaxMsF1JAQKATrWpFEtqCl5L98i/aP7tCcl+9KKdoj9mUAmN3cPglYZ9VyIdw+CTgdz4IF7HzRBjrIdx80RjFkAvtHORFY72VbysXq4V5BWbtBFWKvKqr+WClCeOw+qAtBIQai3BF4mWA5oTh2A7f2R3LiDfyQTYGmlApbW25puNpHgpLUCWxpwNXA66dBQR5moZioOYqDYhGJWqFK2taoKzhMP8Ao8hc0fZvsRyPA0R4BQcS0ai3mn8A+rBetKj4IJLQniLJtgTrwUHoU+E3E1O0QKBSwksCWQgpWSH7ZGO0X3ZQXJvvUZ7Qn7IoA8Dxp8kzgJO+R0TmHb3PJQ8A6kpHRATpcohEO6oYF1NhFkAztJKGwEE+0aDxVawzdh8yjPbR7QyInbUeNhzJQzCPa4EtoQdiPFAbwTBt5IrgXt1Fldrqv4aWhIQh8krngxsdWtiDpr/ZBprDXZPRs+Ko+CxmJju69NxqY4/Iqbge15e8tdE5v7RaQD5oLUd0sG6Hx5gCRRP/AKaLlBLe6yjP2so7s0irQvHhxSJMwip7YFedUEDE01Fx2t8V3LZO+8Daxqmsa4Ftjud1G7MSF0kg3oB+aCxRpx5XGNXdKB2FLJXI22Sg1B2NLIuuxsTkbboKFlA+2RrtA37NBcoP2yseZyNDau2ogAYeM6Bbgh0DCMRsaU5KwtznDi2oLn6zwxNaj4oE6LpGZRvMLhE7S/g7eikHNYDfUF45hC7uhwqUFZy6B0sRhxlJahxjeRQ2sQeqGDLmwECJxDTuK1Fd7BG89En6Mz1QGrVUVHCve8LVUNjG+rbw68a1qUDE7xQF9b2q1o8qgkUUJuNl1ARRucK01bAHoir4ibmzQAT4Vuj0UJYNAa2h3tanOyDOZcTmLcR6m41O3ENWm99T62NCrC2XERkxyMLiNnNG/WvFWXCua4HTUcNzuOicxU/qonv6UHUoIfZzEl+mkbnOBOqlAB4kkXTGeZmG1qXR0dRzTvU7bVsealdkYS3U41q41A8f9qJm+FbLj3wyCrXQseDXYhzgR12HxQVObtFEx57rhS5c1tbcyTsjQzMTM01sbioAr0qN0Sx3ZXCy0MsYc5vsmpbSm1humc07NxvGqPuubSgabGiBjA412nQ5oABFDWwv+SLdjITrnfTuu0hp4GhNaIVLG6OJwIIlNGioBuTY04jojeS4iYYkRktEDWu1uI7z5N6tAs1vRBZmMCVpSmTx+8E4MRHzCDoavBq6MRH7wSxiY+YQKaLJ2IJAxUfvBOsxMfvBBnOVffIt2pZWB3ghWUD7ZG+0LaxEdEGC4rBP1uoXUrzKW3BSD8TviVfsLld6lqkvy9nJBnH6NJ7z/wCYrwbM0hwe+oIIudwarQ/1W08E0/Km8kB/KM0bNhmWHrNJ7vOxqR51Ql07fV0/FXbkE1hnerAZw1AtOxbe9DySMSRqcA7UNRFfNAXwxLu7baniOqI4TFuYNMrCKWDgKtI4VI2PigseI0OB6BEznrWgmtPNBOOaRi3dPhQ/IKFj8RrFCCGC99z4DkmI8wfiDY6Gcxu7wPJC87zR+HLvspJWkCjmjUfNBb8kZUV58FGzeICUSgVc3bqDZzfgoPZrtC10Qc2xFiDYjoU1mWfxmdsOsF7hUNG++/RAewT45RVrrfkeRHBKGXt1VrWm1Kj8kLw9NREjdLtxIw6S796m5T0mC3+3lob0BaB8hVBDzhofKA3g4Dn3jwHOgQ/tJk0872+qldG1oIIbapJ3KI4eFvrWtAs29OZ/2rExqDMndlcZW2JkT8fZTG1/7qT4haPEy6kBqDNf+lMZWn6TJ8k5H2TxZP8A3MnxWkBt06xt0GcHshiv/Yk+Kcj7IYn/ANiT+ZaQGJbGoKBlB+2VjzMVaq3lH3ysuYHuoBvqG6UNxEIqUWr3UNmO6BGFhCfdA08EjDFSC6g5IB02GFduKq4koXDhrd/yVjx2ZwsIBkbUkADUCak0VXxEZpJT2mOJ8iUFgx7NIY/hUA+eyemyfUBJWoGzRxPVJwTm4jDAVu5vzCm5LiSYqHcfQoIeCzyAuMZIa9lnMsCPJEy1r6jgQhnaLIYZ3NlcwGVvsu2r0JG42UbCYOGMtbIMRC0/+djtbG22LbkXtsggY/sdP6wuinc1puQBT6I5lGRMgue880q83P8AZTpMNGWPMWaMFNtTWVFvxbV8gFV8zwuPY8Rw4iPEBxu4t0taDxJBKCy5jNRhdvp2pxuh8uZyWABOr5DqpmR5TJG2s8wedzRtGg9OK9QND5dg6ob4D+qCRkTO8X8u7XqTUo6JELymPTE2vG/xv+VFPDkDzZO8pAkUDVdSmlBI13TrX3UVpTwddBMBSgU1VOBBn2Vn7ZWTMD3FWss++CJ9qM8hw0dZHgOIszcn4IHQO4q1m3aGCEkOdU8m3VPzjtfPiPs2d1vJtdupVfmjAqXuJdyB/MoLHj+3sgJELQBwJFSq1mGe4qX25HU5C1egooGLzJosKW5f1TmBB+8IoT7IJ2HMoLH2EylsmMjEly2shrXceyrpnOD9XPqPsyd0/vdVU/R9iAzHR63e3VleFXbfMLX80ypk8ZY7jx5EbEdUFK7Mj1b5IfddqH7rkWgZSWRvAnUPMf1Vdxpfh52mQUe3uOPvNJ7rh0RH9YaZhU2cKfUID04OgHkk4fEngAVJwkupvO35pyHDgnZAxLM0i8d+dj+ajwEF1hbcqbioRy80oQiNlUEPMZjp0Dd50+VLn4Ktdp88bAWR0rcd2v4RzPkp+Y5syJss7j3YwRvep5deCy9+dxzvLne07cHh0CDUcr7aYeWxqx3Ii3xVkieHULSCOYWIsgb+Anz2U7K81mgNWuIHIklqDYa3UthVKybtfHLQTUYa0DuBPVXaIAgEXHAoHAnimg1P6UD4TjEkN2S28EGP51n/AOjmjLyUt0VAx2NknkLi5zyTd52HQLmJa+V5Fbbuf9E3LI40hgbU7Ej2R+8eCBOJx7Ym0B+G5KGsjnxB7oOk8TYeZRnDZHGwl0zvWv5D2G+J/EpcklqatI5CgCAdgspjju7vu6ju18OKkSMBpY2TjHi4Jva5rt0Tlv8AKoPYWUsc14HeY4OaOrXVFfhRfQWU4ps0TJWey9ocPPf51Xz82nIg+fyWr+ijMw/DOw5PehdUDjoeaj4GoQGe1nZ1uJjsAJAO67n+yVmTmPo6F9Wyx7V3IC3MMsqz2t7LDEDW0hkzfZkp8ncwgz3KO0RbRr3UItfYjqrfg87Dhy6hUDMcudqc17CyRtdTSLOA/Ew8Wnmh7svla0uZK5op7NTYoNTxOaxtFzXqqvnna1rqxQnU91hpvTn50WfuEzvbe8+JNFPOA9XgpcRdrmyRsaRvcjVTyKDufPxLwGuicY23oDWp5uCrkmEjeaAaXdO6fgVYcB2ixDN6SN415I2yTB4qgkjEbtiQPyKCieoxEV2kvby4ollmdsf3Xi5/CbfBWzFdkXBpdBNqbwa69vFVDF5e1xLZG+rkGxpQ24g8QgJSYcWLXGm5HJWLs12qkw5DHH1kVhSt2jmFQ4cVJA7TLdvB4+qNQyA3ABBHx6hBuWAxrJmCSNwc08uHiiAWM9m83kwzg9pqw2c2tjf5FazgMwZKwPYbHhW4PJAVj4JYKYjfZLDkHz26CFjdHtc62uo8mI/C2gG1BYefNNvu4jpve/JNDbw+nNAjVvwr+aZdQiu6ede/Ct6JGm5HC/8AVAh8neB3q0ilOAT4cOW/UhR9NS2+1fmEqJ196oJbXAf7Ksno/wA1EGNjLrNlrE6+2q7Sf4gPiq0wcd/mukOpUWIIIsNxcfkg+mGGifc1COz+ZNxOHinb+NgJ6OAo4fGqLMKAJ2h7OMxLeUjalj/dPXmOizrFYAxvMcoDXfiH4f3mniCtjWe+lzGwiJkBAdOTraQdL2NFydQuA7ZBVBlGt4jjAc51hyHU9BzUX0nQCCPC4KP2e9I8+88UFfCqX6O+2UMOIME7BGJWtDZnPL3Nf7rnEWYUv0x9zF4TkY5R/wDppQUjDNLaInHGCL2qomnTUqREUBbLMwliNGutxHBWWTAYfHs7wDZANxan7vNUxsil4PFGMhwJF90EXP8AInwH1cjTJG72XU/5ckAjD8O4CtYibGtdK1vAZjHiWhk/tUoHeKpvans6cPVpvC40YTc+B5dEHoXlzCRcfib094IhlmYSwnSDY3HIqq9n8a6GQRONt2E8RxaVbHQCha2wPeYTwPFqA/ge25b3ZGnxVoy3tLDJ+Lgsre4ubqAu2zgu4aYb7HogBTNILedEjSam1aqRM0kUPtAmngkfiHgD0QQ3VpexXHPANfBP4iP2vHkmCLgW2QMRONbHj9OCU8fs+aTWj78ilxi9iKoFRPHvfkpBO1D81HNW/hH5p7DAEaqUrtz8wg1n0QZsHRSYU+0w+sYObXe0PI0+K0YLA+xWbjC42KQjuuPq31tQPIBPkaFb64cEETO81ZhcPJiJPZjaTQbk0s0dSbL5wf2hdippMRNTXK7VSp0tb+Fo6AfVb/m8muRoIrGwixFQ5xpcjkFifpL7K/oWK9YzQ2GclzK1Ghwu5n1HigrOd4WpJpQEV6X4K54nAy4/KWSu7+IwnsOH/kjo00d10k/yqtYqNj8PUzF5sdLG8uFVqXo4h0CaA+yKEctLhUf8qIMywjtTQeNOS6XkX4ohn2X/AKNi5YuBcSwfsm6jOjtXf6dEHYnVHLpyUgNI8abcxzUWJlN/JSWu/tX8kEzBYjS4Cvgr3gSzFQuhk3oQLX23vxWcu6cFZOz+MNQa3HXkgqfajJHxuoagg1aePQolkOO9fHpJo8cNqOH9Vdu2mC9dhfXMA1N71hUmm4WS4TEOixAc001fCo5oLXI8McHUoHb9HDdWWLJoZQHNNKjh4Kn4zFOeHixqA6tNjxRnsviXOZuahAAnisCNwfjZMObWlht9dlIcdq8+aiv3F61FafmgTMB3rcbfBQHAWdz/AKIpJx5WtRD5G1bXkfzqgizwgk3oRdpTVS0gPFD77bA9HclLpc+A36JcwGm4BFdvJBGpWl+Py5qS0bHy2qkw4YMbQcfMAcB0TjRQaT+dBVAsbEWB4C+63zsvnQxODhePbc3S79lzLE/L5r5/hPDenj+a1f0OY0GCaAuBLJNYHIPF6fxBBeZoRQA7WHwost9Okmp2FjFCWh8haeINGivzWr4j2Ssb9KL9WYOuD6uKMaeVdTvqgpGHeDE57GabHUwg8eVdlsvYhgcIJmgBsuHaLXFWLJsHESyjRVxBOkXsBxVy9D2eaJf1fJUtOp+Hd7pILnxk8tyPNAQ9LOW1Ec7Rdvdd4FUhlxW3x3Wy9rMEJcPKylatNPFYrhOIO7Tf8kEnDtJ36i64W0XHuIJIvcUr812OQG2x4j+iB2xCk5ZLpeOu/koYb8V5r7hw/C6vlxQadkUusOiJ7paacq8VkPabKnYeZzDwNR1BNlpfZjFd4dL/ABQv0pZWHObI0HVSh68kFLy/MGva3TG5rmV1ucbOB2ACOdjZ6ukHC1PmqzFG9rTVpUzIMZpLi3jb4VQPyPqP8skSsvUcGixXcQKNFNqEpsS3twAQPz3vTlt4KA9vd22ofmpcUwFuIJv0om3X1C2wv5oIA3p038EmKTuh1Qa2pypY+aelaKjc7hR4bHRSzzUfvDh5hBMjaaFt7mpSQaDjtTYeS5G48trcV11DQml+hQIDqUPke9RW70ZY71WYMbXuzNdGR1ALm/kqi3i29/ACykwYt0b2TNrqjc11bD2Tt5io80H0c41afBYl25eTmOIO5IjYByowVWz4fENkjbIPZewPHg5tR+axPtvH/wD0MQa0HcO37ApWiAJoLD3ab0qN+oKj5fi3QSieP2oXsLepFdQ61BcFMm0tq7cC5AJHG1UyYi0Na4Xc4yEcm0t9UG9x4ls0bJW+zIwPHg4V+qxPPI/VY6WLnceB/wBLRvR3mfrcIGH2oXGP+E95nyKz70qtMePZINiAD4IGGmyc5H5pmB1R0UktsgRS9OtUxO6zj0HxUh5oSeFP8KjY5lS2nO/ggtnZqb2Ov+XU/wBIeYgCCNwFH173UbDwQfI7Uoj/AGly2PE4B+qmtoIY6/dJ5IM1e4mocdDR4UI8OJXcsbQtDRzoOJtclA8HhnNkIeSdJ2/qrbAdBLnNo5wGmvBvQIIkkoc0C23NQw4CSh2t9ENfiHRuLXcaUUt79XyQddNSWnMFTWi3kLDxVezGZzS08q18EZwGIq2oPEDbogXNCaivX8+Kj4mAlp0m4IIPIgqdiB7PHdMPPdPQ/VByPYO97foRuullbE15UTEc4D9JsH3H7w/qn618uXJAh5qeA+a6WfPhS6Uab8DsF5rdwfzQbL6OMy9bgGNPtQ1idxs32D/Kqb2+j046Sj2NEkERNbXaXAkc+Ck+iHGgS4iA/ja2RvKrCQ7/AJBe9I+GYcTC6RpLXMLagkEFrqjbdBTYsMJdQ1fZtu59N6fVexr9RL9tVA0fsgJxrg77PusYHGwHxqeJTGMrXalBRvhwugt3ouxemeaGntxh4PMsNHU8iFz0o5f6wh1NghXZifRi8O8GxeGHkGvaQ4HrWivXabBa2E+KDKcqf3KHfY8+SJN4jooE2GMUv7JU7TeiD2ItT5puZlwlTnboTXzCZedI8PyQWLJHd0H/ADdWHM8ybh8DJI8VAt5uNAFUey82pnO/1Vxx2WtxWDlhdSlQK7XFwgyzA5uyN3rzGHEXDTsTwrzRTBvknlM0xq99XU4NHAU4KpYnLnxyBpOqm3Leit+Ai9UwSuuTbe5tfwCATmOFD6ilDsgbZHRGhuK0/wBIuzML94X2XsVhWvoRUjfw5oBeOlDozT3aj4qVkU9WAb3JKHytA1NpsKBM5ROQaePwQWytx4f6TUgN6CoSIJQaUToINfNBAx8eoCm/Dx3HzCfil1APpQ1oR14p17KjbkVDHckN+68Dydw+KCe4cCBzHUlI1Upz+KW4+VP8skEVNamh/wAugL9lMw9TjsO/2Q54Y6tu6/umvnRXD0pNeP0csALg97akVpVla/ELN3usQNxdt71F/or527m/ScDh8SLirDStPabR1fOyCqmVwFZgwtdTU9lAR5j8l4xgMFw5hPdeLlp5HkmHlpPdFAAA4dQL2O65A/QCWtrEfbbXY13HFByYujBcDQsIeOukh30W1yASxhw2e0OH8Qr9VkM0Is13svHcd48CtS7EkuwMG50s0V5lhLfogo3bDLw1ptxrXwQNj66StF7bZaXMrT/KLNcE61ORQSXNqCFCxpAaSf3T4c1ODLU+ChSyXFqml/EfVBK7Ku0OoT0+dlobJaYaRzgCNQby/wAKzbL2EtJceNj5q/4PF68A6wLgaOqabbGiDNM7k0vrSu5+as2QwtOUvkcKvfiaauNGt2B5IFn0HdD+fyoVZcLHoyjDA21zSv8ALYIKNiMLStuSThSWnz49UTc2RtWnvtraq9hxWvc25oA+ZYZsjSRZw3A6KvYR1HW6/wB1dsU0UIFBxVPzWLRKSLA3/qgOZc+oJU+Id3pT6oLkk1WEVvXbxRxgsfhRByPlXimsVDW3MU24c09E/ujrdec4VG9kDGGcSL7tOk04jgfMJ9rdwfEFMPj0u18KlruorYnwUlzd+l/FA2a8qHpv8VcMPKJsmezjC57efskPB+BPwVPLvmrH2JJcMZDwfHUDqWubbrsgCwRX1EnSb+R40XmNFHNG9eVzfmkYVxLWOANNLQT0AoQfNPNBBDhtvp3Boa3QOwu7vqz3rVYeLXDcLRvRFiy7CzxGv2c5La+7I1rv+Rd8FmZkrIx1KVkJAFgLK9+ifFudNimk17jHeHecPqEF0z2DXG4dFh7xonczrXem63rGNqw1WC57GW4lzuG3zQT22KHYhveoCbH5FEInVAO9t1GxliaDf/KIJGB06bEf3U1spaC33hQ1/NC8P3GU41r4XRR1w3xAKAfnfdhcz8TXU8j3grdnWF0YDLoeOhz/AIgFUrtGzViixpqCWjxIAC0PPyH4jDwcIoQPMtQUBsZ1Gu1ivaR53XV5BHGFpqLhvRA8+wodI1oHXyXl5AxluCLHCn+wishoOVb0Xl5AhtTQc9/qpEcJLheorxXV5A6+PUC2limI66erbHqP9Ly8g4wVt5o12SxAbjYa1AfWI+L2mn5Ly8gHSRuidPDSmiWRtjb2yR8iE5FO4loABpQUoQFxeQJcBrceDGnwDtqD4qz+i3EiPGtZW8kT2u5VFHtvx2K8vINQxctQWjdYv6THCBzKe0XC3S9V5eQN5Y6rBS/RJx7O83w+a8vIFyR90+C8yY3HgV5eQMYar8ZHX3gfmrnJiNeJkkrtYfkvLyD/2Q==)"
   ]
  },
  {
   "cell_type": "markdown",
   "metadata": {},
   "source": [
    "## Conclusion\n",
    "\n",
    "Statistics have long been used to describe data in general terms. For example, things like **variance** and **standard deviation** allow us to understand how much variation there was in some data without having to look at every data point individually. They give us a rough idea as to how consistent data is. However, knowing variance alone does not give you the full picture as to what the data truly is in its native form.\n",
    "\n",
    "Statistics are great for describing general trends and aspects of data, but statistics alone can't fully depict any data set. Francis Anscombe realized this in 1973 and created several data sets, all with several identical statistical properties, to illustrate it. These data sets, collectively known as “Anscombe's Quartet,” are shown below.\n",
    "\n",
    " Picture of Anscombes Quartet all data setsGraphs generated by meta-calculator.com\n",
    "All four of these data sets have the same variance in x, variance in y, mean of x, mean of y, and linear regression. But, as you can clearly tell, they are all quite different from one another. So, what does this mean to you as a statistician?\n",
    "\n",
    "Well, to start, Anscombe's Quartet is a great demonstration of the importance of graphing data to analyze it. Given simply variance values, means, and even linear regressions can not accurately portray data in its native form. Anscombe's Quartet shows that multiple data sets with many similar statistical properties can still be vastly different from one another when graphed.\n",
    "\n",
    "Additionally, Anscombe's Quartet warns of the dangers of outliers in data sets. Think about it: if the bottom two graphs didn't have that one point that strayed so far from all the other points, their statistical properties would no longer be identical to the two top graphs. In fact, their statistical properties would more accurately resemble the lines that the graphs seem to depict.\n",
    "\n",
    "how to analyze your data. For example, while all four data sets have the **same linear regression**, it is obvious that the top right graph really shouldn't be analyzed with a linear regression at all because it's a curvature. Conversely, the top left graph probably should be analyzed with a linear regression because it's a scatter plot that moves in a roughly linear manner. These observations demonstrate the value in graphing your data before analyzing it.\n",
    "\n",
    "Anscombe's Quartet reminds us that graphing data prior to analysis is good practice, outliers should be removed when analyzing data, and statistics about a data set do not fully depict the data set in its entirety.\n",
    "\n",
    "\n",
    "\n",
    "Read more: https://www.mathwarehouse.com/statistics/what-is-anscombes-quartet.php#ixzz5W1L8kVgj"
   ]
  },
  {
   "cell_type": "markdown",
   "metadata": {},
   "source": [
    "## References\n",
    "https://en.wikipedia.org/wiki/Frank_Anscombe<br>\n",
    "https://en.wikipedia.org/wiki/Anscombe%27s_quartet"
   ]
  },
  {
   "cell_type": "code",
   "execution_count": null,
   "metadata": {},
   "outputs": [],
   "source": []
  }
 ],
 "metadata": {
  "kernelspec": {
   "display_name": "Python 3",
   "language": "python",
   "name": "python3"
  },
  "language_info": {
   "codemirror_mode": {
    "name": "ipython",
    "version": 3
   },
   "file_extension": ".py",
   "mimetype": "text/x-python",
   "name": "python",
   "nbconvert_exporter": "python",
   "pygments_lexer": "ipython3",
   "version": "3.6.6"
  }
 },
 "nbformat": 4,
 "nbformat_minor": 2
}
